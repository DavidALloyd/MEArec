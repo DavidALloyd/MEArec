{
 "cells": [
  {
   "cell_type": "markdown",
   "metadata": {},
   "source": [
    "# Generating templates and recordings with MEArec"
   ]
  },
  {
   "cell_type": "markdown",
   "metadata": {},
   "source": [
    "This notebook shows how to generate templates and recordings from scratch using MEArec.\n",
    "\n",
    "The last part of the notebook showcases some plotting routines available through the package."
   ]
  },
  {
   "cell_type": "code",
   "execution_count": null,
   "metadata": {},
   "outputs": [],
   "source": [
    "import MEArec as mr\n",
    "import MEAutility as mu\n",
    "import LFPy\n",
    "import yaml\n",
    "from pprint import pprint\n",
    "import matplotlib.pylab as åøt\n",
    "%matplotlib notebook"
   ]
  },
  {
   "cell_type": "code",
   "execution_count": 2,
   "metadata": {},
   "outputs": [
    {
     "data": {
      "text/plain": [
       "'/Users/abuccino/Documents/Codes/modeling/LFPy/LFPy/__init__.py'"
      ]
     },
     "execution_count": 2,
     "metadata": {},
     "output_type": "execute_result"
    }
   ],
   "source": [
    "LFPy.__file__"
   ]
  },
  {
   "cell_type": "markdown",
   "metadata": {},
   "source": [
    "## Load default configuration files\n",
    "\n",
    "First, let's load the default configuration of MEArec"
   ]
  },
  {
   "cell_type": "code",
   "execution_count": 3,
   "metadata": {},
   "outputs": [
    {
     "name": "stdout",
     "output_type": "stream",
     "text": [
      "{'cell_models_folder': '/Users/abuccino/.config/mearec/cell_models/bbp',\n",
      " 'recordings_folder': '/Users/abuccino/Documents/Codes/mea/MEArec/data/recordings',\n",
      " 'recordings_params': '/Users/abuccino/Documents/Codes/mea/MEArec/MEArec/default_params/recordings_params.yaml',\n",
      " 'templates_folder': '/Users/abuccino/Documents/Codes/mea/MEArec/data/templates',\n",
      " 'templates_params': '/Users/abuccino/Documents/Codes/mea/MEArec/MEArec/default_params/templates_params.yaml'}\n"
     ]
    }
   ],
   "source": [
    "default_info, mearec_home = mr.get_default_config()\n",
    "pprint(default_info)"
   ]
  },
  {
   "cell_type": "markdown",
   "metadata": {},
   "source": [
    "## Generating and saving templates"
   ]
  },
  {
   "cell_type": "code",
   "execution_count": 4,
   "metadata": {},
   "outputs": [
    {
     "name": "stdout",
     "output_type": "stream",
     "text": [
      "{'cut_out': [2, 5],\n",
      " 'delay': 10,\n",
      " 'drift_steps': 30,\n",
      " 'drift_xlim': [-10, 10],\n",
      " 'drift_ylim': [-10, 10],\n",
      " 'drift_zlim': [30, 80],\n",
      " 'drifting': False,\n",
      " 'dt': 0.03125,\n",
      " 'max_drift': 100,\n",
      " 'min_amp': 30,\n",
      " 'min_drift': 30,\n",
      " 'n': 50,\n",
      " 'ncontacts': 10,\n",
      " 'offset': 0,\n",
      " 'overhang': 30,\n",
      " 'probe': 'Neuronexus-32',\n",
      " 'rot': 'physrot',\n",
      " 'seed': None,\n",
      " 'sim_time': 1,\n",
      " 'target_spikes': [3, 50],\n",
      " 'weights': [0.25, 1.75],\n",
      " 'xlim': [10, 80],\n",
      " 'ylim': None,\n",
      " 'zlim': None}\n"
     ]
    }
   ],
   "source": [
    "# define cell_models folder\n",
    "cell_folder = default_info['cell_models_folder']\n",
    "template_params = mr.get_default_templates_params()\n",
    "pprint(template_params)"
   ]
  },
  {
   "cell_type": "markdown",
   "metadata": {},
   "source": [
    "Now let's change a few parameters and generate templates."
   ]
  },
  {
   "cell_type": "code",
   "execution_count": 7,
   "metadata": {
    "scrolled": false
   },
   "outputs": [
    {
     "name": "stdout",
     "output_type": "stream",
     "text": [
      "Running with 13 jobs\n",
      "\n",
      "\n",
      "\n",
      "Simulation time:  62.19468688964844 \n",
      "\n",
      "\n",
      "\n"
     ]
    }
   ],
   "source": [
    "template_params['n'] = 10\n",
    "template_params['probe'] = 'Neuronexus-32'\n",
    "# the templates are not saved, but the intracellular simulations are saved in 'templates_folder'\n",
    "tempgen = mr.gen_templates(cell_models_folder=cell_folder, params=template_params, n_jobs=13)\n",
    "# this will take a few minutes..."
   ]
  },
  {
   "cell_type": "markdown",
   "metadata": {},
   "source": [
    "The `tempgen` variable is a `TemplateGenerator` object. It contains the `templates`, `locations`, `rotations`, and `celltypes` of the generated templates."
   ]
  },
  {
   "cell_type": "code",
   "execution_count": 10,
   "metadata": {},
   "outputs": [
    {
     "name": "stdout",
     "output_type": "stream",
     "text": [
      "Templates shape (130, 32, 224)\n",
      "Sample locations [[  25.59020171   34.55953062  -82.61710864]\n",
      " [  30.42507329   11.73125763 -119.49064589]\n",
      " [  23.38256901    8.33359728  -77.02424605]]\n",
      "Sample rotations [[ 1.3719185  -0.02472658 -2.20004747]\n",
      " [ 1.32230512 -0.07434698 -0.99948901]\n",
      " [ 1.60932556  0.04665138  3.05103086]]\n",
      "Sample cell types ['L5_BP_bAC217_1' 'L5_BP_bAC217_1' 'L5_BP_bAC217_1']\n"
     ]
    }
   ],
   "source": [
    "print('Templates shape', tempgen.templates.shape)\n",
    "print('Sample locations', tempgen.locations[:3])\n",
    "print('Sample rotations', tempgen.rotations[:3])\n",
    "print('Sample cell types', tempgen.celltypes[:3])"
   ]
  },
  {
   "cell_type": "markdown",
   "metadata": {},
   "source": [
    "We can now save the `TemplateGenerator` object in h5 format."
   ]
  },
  {
   "cell_type": "code",
   "execution_count": 11,
   "metadata": {},
   "outputs": [
    {
     "name": "stdout",
     "output_type": "stream",
     "text": [
      "\n",
      "Saved  templates in data/test_templates.h5 \n",
      "\n"
     ]
    }
   ],
   "source": [
    "# save templates in h5 format\n",
    "mr.save_template_generator(tempgen, filename='data/test_templates.h5')"
   ]
  },
  {
   "cell_type": "markdown",
   "metadata": {},
   "source": [
    "## Generating and saving recordings\n",
    "\n",
    "Once the templates have been generated, we can use them to generate recordings. Let's fisrt load and take a look at the default parameters:"
   ]
  },
  {
   "cell_type": "code",
   "execution_count": 12,
   "metadata": {},
   "outputs": [
    {
     "name": "stdout",
     "output_type": "stream",
     "text": [
      "{'cell_types': {'excitatory': ['PC', 'SS', 'SP'],\n",
      "                'inhibitory': ['AC',\n",
      "                               'BP',\n",
      "                               'BC',\n",
      "                               'BTC',\n",
      "                               'ChC',\n",
      "                               'DBC',\n",
      "                               'MC',\n",
      "                               'NGC']},\n",
      " 'recordings': {'angle_tol': 15,\n",
      "                'bursting': False,\n",
      "                'chunk_duration': 0,\n",
      "                'color_noise_floor': 1,\n",
      "                'color_peak': 300,\n",
      "                'color_q': 2,\n",
      "                'drift_mode': 'slow',\n",
      "                'drifting': False,\n",
      "                'dtype': 'float32',\n",
      "                'exp_decay': 0.2,\n",
      "                'extract_waveforms': False,\n",
      "                'far_neurons_exc_inh_ratio': 0.8,\n",
      "                'far_neurons_max_amp': 10,\n",
      "                'far_neurons_n': 300,\n",
      "                'far_neurons_noise_floor': 0.5,\n",
      "                'fast_drift_max_jump': 20,\n",
      "                'fast_drift_min_jump': 5,\n",
      "                'fast_drift_period': 10,\n",
      "                'filter': True,\n",
      "                'filter_cutoff': [300, 6000],\n",
      "                'filter_order': 3,\n",
      "                'fs': None,\n",
      "                'max_burst_duration': 100,\n",
      "                'modulation': 'electrode',\n",
      "                'n_burst_spikes': 10,\n",
      "                'n_bursting': None,\n",
      "                'n_drifting': None,\n",
      "                'noise_color': False,\n",
      "                'noise_half_distance': 30,\n",
      "                'noise_level': 10,\n",
      "                'noise_mode': 'uncorrelated',\n",
      "                'overlap': False,\n",
      "                'preferred_dir': [0, 0, 1],\n",
      "                'sdrand': 0.05,\n",
      "                'shape_mod': False,\n",
      "                'shape_stretch': 30.0,\n",
      "                'slow_drift_velocity': 5,\n",
      "                'sync_jitt': 1,\n",
      "                'sync_rate': None,\n",
      "                't_start_drift': 0},\n",
      " 'seeds': {'convolution': None,\n",
      "           'noise': None,\n",
      "           'spiketrains': None,\n",
      "           'templates': None},\n",
      " 'spiketrains': {'duration': 10,\n",
      "                 'f_exc': 5,\n",
      "                 'f_inh': 15,\n",
      "                 'gamma_shape': 2,\n",
      "                 'min_rate': 0.5,\n",
      "                 'n_exc': 7,\n",
      "                 'n_inh': 3,\n",
      "                 'process': 'poisson',\n",
      "                 'ref_per': 2,\n",
      "                 'st_exc': 1,\n",
      "                 'st_inh': 3,\n",
      "                 't_start': 0},\n",
      " 'templates': {'max_amp': 300,\n",
      "               'min_amp': 50,\n",
      "               'min_dist': 25,\n",
      "               'n_jitters': 10,\n",
      "               'n_overlap_pairs': None,\n",
      "               'overlap_threshold': 0.9,\n",
      "               'pad_len': [3, 3],\n",
      "               'upsample': 8,\n",
      "               'xlim': None,\n",
      "               'ylim': None,\n",
      "               'zlim': None}}\n"
     ]
    }
   ],
   "source": [
    "recordings_params = mr.get_default_recordings_params()\n",
    "pprint(recordings_params)"
   ]
  },
  {
   "cell_type": "markdown",
   "metadata": {},
   "source": [
    "Similarly to the templates generation, we can change th eparameters that we pass to the `gen_recordings` function.\n",
    "In this case we will keep the default parameters."
   ]
  },
  {
   "cell_type": "code",
   "execution_count": 13,
   "metadata": {},
   "outputs": [
    {
     "name": "stdout",
     "output_type": "stream",
     "text": [
      "Spiketrains seed:  9032\n",
      "Noise Level  10\n",
      "Templates selection seed:  5366\n",
      "Selecting cells\n",
      "Padding template edges\n",
      "Elapsed pad time: 0.17991018295288086\n",
      "Creating time jittering\n",
      "Elapsed jitter time: 0.389970064163208\n",
      "Computing spike train SNR\n",
      "Adding spiketrain annotations\n",
      "Convolution seed:  1042\n",
      "Electrode modulaton\n",
      "Adding noise\n",
      "Noise seed:  5136\n",
      "Filtering\n",
      "Band-pass cutoff [ 300. 6000.] Hz\n",
      "Elapsed time:  2.5588909679991048\n"
     ]
    }
   ],
   "source": [
    "recgen = mr.gen_recordings(templates='data/test_templates.h5', params=recordings_params)"
   ]
  },
  {
   "cell_type": "markdown",
   "metadata": {},
   "source": [
    "The `recgen` variable is a `RecordingGenerator` object. It contains the selected `templates`, `template_locations`, `template_rotations`, and `template_celltypes`, as well as `spiketrains` and `recordings`."
   ]
  },
  {
   "cell_type": "code",
   "execution_count": 14,
   "metadata": {},
   "outputs": [
    {
     "name": "stdout",
     "output_type": "stream",
     "text": [
      "Recordings shape (32, 320000)\n",
      "Selected templates shape (32, 320000)\n",
      "Sample template locations [[ 27.45116824  40.28194951  18.14995165]\n",
      " [ 34.95372717  -3.74434058 115.69880692]\n",
      " [ 25.59778543  46.27314802  59.42980505]]\n",
      "Number of neurons 10\n",
      "Sample spike train [0.11429887 0.70300085 0.73083964 0.82369744 0.91580225 1.20780594\n",
      " 1.26923889 1.40174683 1.80875062 1.95944768 2.12334028 2.54161796\n",
      " 2.6544476  3.44370852 3.50380249 3.68940609 3.85425124 4.60363379\n",
      " 4.60830634 4.66215386 5.95264095 6.20761764 6.23352204 6.25462298\n",
      " 6.54975168 6.56466418 6.843358   6.93180796 7.49679611 7.52627598\n",
      " 7.88818956 8.11402097 8.29930613 8.43728921 8.83530261 8.91867706\n",
      " 9.19055022 9.38906899 9.53036428 9.54350781 9.55563152] s\n"
     ]
    }
   ],
   "source": [
    "print('Recordings shape', recgen.recordings.shape)\n",
    "print('Selected templates shape', recgen.recordings.shape)\n",
    "print('Sample template locations', recgen.template_locations[:3])\n",
    "print('Number of neurons', len(recgen.spiketrains))\n",
    "print('Sample spike train', recgen.spiketrains[0].times)"
   ]
  },
  {
   "cell_type": "markdown",
   "metadata": {},
   "source": [
    "We can now save the `RecordingGenerator` object to h5 format."
   ]
  },
  {
   "cell_type": "code",
   "execution_count": 15,
   "metadata": {},
   "outputs": [],
   "source": [
    "# save recordings in h5 format\n",
    "mr.save_recording_generator(recgen, filename='data/test_recordings.h5')"
   ]
  },
  {
   "cell_type": "markdown",
   "metadata": {},
   "source": [
    "## Plotting the templates and recordings\n",
    "\n",
    "`MEArec` implements some basic plotting functions."
   ]
  },
  {
   "cell_type": "code",
   "execution_count": null,
   "metadata": {},
   "outputs": [],
   "source": [
    "# plot templates\n",
    "mr.plot_templates(recgen, single_axes=False, ncols=4)\n",
    "mr.plot_templates(recgen, single_axes=True, cmap='rainbow')"
   ]
  },
  {
   "cell_type": "code",
   "execution_count": null,
   "metadata": {},
   "outputs": [],
   "source": [
    "mr.plot_recordings(recgen)\n",
    "mr.plot_recordings(recgen, start_time=0, end_time=1, overlay_templates=True)"
   ]
  },
  {
   "cell_type": "code",
   "execution_count": null,
   "metadata": {},
   "outputs": [],
   "source": [
    "mr.plot_waveforms(recgen, electrode='max', cmap='rainbow')"
   ]
  },
  {
   "cell_type": "code",
   "execution_count": null,
   "metadata": {},
   "outputs": [],
   "source": [
    "mr.plot_rasters(recgen.spiketrains)"
   ]
  },
  {
   "cell_type": "code",
   "execution_count": null,
   "metadata": {
    "scrolled": false
   },
   "outputs": [],
   "source": [
    "_ = mr.plot_pca_map(recgen, cmap='coolwarm')"
   ]
  }
 ],
 "metadata": {
  "kernelspec": {
   "display_name": "Python 3",
   "language": "python",
   "name": "python3"
  },
  "language_info": {
   "codemirror_mode": {
    "name": "ipython",
    "version": 3
   },
   "file_extension": ".py",
   "mimetype": "text/x-python",
   "name": "python",
   "nbconvert_exporter": "python",
   "pygments_lexer": "ipython3",
   "version": "3.6.10"
  }
 },
 "nbformat": 4,
 "nbformat_minor": 2
}

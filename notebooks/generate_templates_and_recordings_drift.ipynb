{
 "cells": [
  {
   "cell_type": "markdown",
   "metadata": {},
   "source": [
    "# Generating templates and recordings with non-rigid drifts"
   ]
  },
  {
   "cell_type": "markdown",
   "metadata": {},
   "source": [
    "This notebook shows how to generate templates and recordings from scratch using MEArec.\n",
    "\n",
    "The last part of the notebook showcases some plotting routines available through the package."
   ]
  },
  {
   "cell_type": "code",
   "execution_count": null,
   "metadata": {},
   "outputs": [],
   "source": [
    "import MEArec as mr\n",
    "import MEAutility as mu\n",
    "import yaml\n",
    "from pprint import pprint\n",
    "import matplotlib.pylab as plt\n",
    "import numpy as np\n",
    "from pathlib import Path\n",
    "\n",
    "%matplotlib notebook"
   ]
  },
  {
   "cell_type": "markdown",
   "metadata": {},
   "source": [
    "## Load default configuration files\n",
    "\n",
    "First, let's load the default configuration of MEArec"
   ]
  },
  {
   "cell_type": "code",
   "execution_count": null,
   "metadata": {},
   "outputs": [],
   "source": [
    "default_info, mearec_home = mr.get_default_config()\n",
    "pprint(default_info)"
   ]
  },
  {
   "cell_type": "markdown",
   "metadata": {},
   "source": [
    "## Generating and saving templates"
   ]
  },
  {
   "cell_type": "code",
   "execution_count": null,
   "metadata": {},
   "outputs": [],
   "source": [
    "# define cell_models folder\n",
    "cell_folder = default_info['cell_models_folder']\n",
    "template_params = mr.get_default_templates_params()\n",
    "pprint(template_params)"
   ]
  },
  {
   "cell_type": "markdown",
   "metadata": {},
   "source": [
    "Now let's change a few parameters and generate templates. We need to generate templates with drift. In order to use the advanced drift features, we have to make sure that all templates drift roughly in the same direction and by the same distance."
   ]
  },
  {
   "cell_type": "code",
   "execution_count": null,
   "metadata": {},
   "outputs": [],
   "source": [
    "template_params[\"drifting\"] = True\n",
    "template_params[\"drift_steps\"] = 30\n",
    "# this ensures that all cells drift on the same z trajectory, with a small xy variation\n",
    "template_params[\"drift_xlim\"] = [-5, 5]\n",
    "template_params[\"drift_ylim\"] = [-5, 5]\n",
    "template_params[\"drift_zlim\"] = [100, 100]\n",
    "template_params[\"max_drift\"] = 200\n",
    "\n",
    "# let's generate 50 templates per cell models (total 650 templates)\n",
    "template_params[\"n\"] = 20\n",
    "template_params['probe'] = 'Neuropixels-32'"
   ]
  },
  {
   "cell_type": "code",
   "execution_count": null,
   "metadata": {},
   "outputs": [],
   "source": [
    "templates_path = Path(\"data/test_drift_templates.h5\")"
   ]
  },
  {
   "cell_type": "code",
   "execution_count": null,
   "metadata": {
    "scrolled": true
   },
   "outputs": [],
   "source": [
    "if not templates_path.is_file():\n",
    "    # the templates are not saved, but the intracellular simulations are saved in 'templates_folder'\n",
    "    tempgen = mr.gen_templates(cell_models_folder=cell_folder, params=template_params, n_jobs=13, verbose=1)\n",
    "    # this will take a few minutes...\n",
    "else:\n",
    "    tempgen = mr.load_templates(templates_path, return_h5_objects=False)"
   ]
  },
  {
   "cell_type": "markdown",
   "metadata": {},
   "source": [
    "The `tempgen` variable is a `TemplateGenerator` object. It contains the `templates`, `locations`, `rotations`, and `celltypes` of the generated templates."
   ]
  },
  {
   "cell_type": "code",
   "execution_count": null,
   "metadata": {},
   "outputs": [],
   "source": [
    "print('Templates shape', tempgen.templates.shape)"
   ]
  },
  {
   "cell_type": "code",
   "execution_count": null,
   "metadata": {},
   "outputs": [],
   "source": [
    "# plot locations\n",
    "probe = mu.return_mea(info=tempgen.info[\"electrodes\"])\n",
    "\n",
    "ax_probe = mu.plot_probe(probe)\n",
    "for loc in tempgen.locations[::5]:\n",
    "    ax_probe.plot([loc[0, 1], loc[-1, 1]], [loc[0, 2], loc[-1, 2]], alpha=0.7)"
   ]
  },
  {
   "cell_type": "markdown",
   "metadata": {},
   "source": [
    "We can now save the `TemplateGenerator` object in h5 format."
   ]
  },
  {
   "cell_type": "code",
   "execution_count": null,
   "metadata": {},
   "outputs": [],
   "source": [
    "if not templates_path.is_file():\n",
    "    # save templates in h5 format\n",
    "    mr.save_template_generator(tempgen, filename=templates_path)"
   ]
  },
  {
   "cell_type": "markdown",
   "metadata": {},
   "source": [
    "## Generating and saving recordings\n",
    "\n",
    "Once the templates have been generated, we can use them to generate recordings. Let's fisrt load and take a look at the default parameters:"
   ]
  },
  {
   "cell_type": "code",
   "execution_count": null,
   "metadata": {},
   "outputs": [],
   "source": [
    "recordings_params = mr.get_default_recordings_params()\n",
    "pprint(recordings_params)"
   ]
  },
  {
   "cell_type": "markdown",
   "metadata": {},
   "source": [
    "Similarly to the templates generation, we can change th eparameters that we pass to the `gen_recordings` function.\n",
    "In this case we will keep the default parameters."
   ]
  },
  {
   "cell_type": "code",
   "execution_count": null,
   "metadata": {},
   "outputs": [],
   "source": [
    "# 10 min\n",
    "recordings_params[\"spiketrains\"][\"duration\"] = 600\n",
    "\n",
    "# 100 Excitatory, 20 inhibitory (the main difference is morphology and avg firing rates)\n",
    "recordings_params[\"spiketrains\"][\"n_exc\"] = 8\n",
    "recordings_params[\"spiketrains\"][\"n_inh\"] = 2\n",
    "\n",
    "# set template selection params\n",
    "\n",
    "recordings_params[\"templates\"][\"min_amp\"] = 30\n",
    "recordings_params[\"templates\"][\"min_dist\"] = 20 # um \n",
    "\n",
    "# other settings\n",
    "recordings_params[\"recordings\"][\"filter\"] = True\n",
    "\n",
    "# noise level and model\n",
    "recordings_params[\"recordings\"][\"noise_level\"] = 10\n",
    "recordings_params[\"recordings\"][\"noise_mode\"] = \"distance-correlated\"\n",
    "\n",
    "# set chunk duration (IMPORTANT for RAM usage and parallelization)\n",
    "recordings_params[\"recordings\"][\"chunk_duration\"] = 10\n",
    "\n",
    "# drifting option\n",
    "recordings_params[\"recordings\"][\"drifting\"] = True\n",
    "recordings_params[\"recordings\"][\"slow_drift_velocity\"] = 30\n",
    "recordings_params[\"recordings\"][\"slow_drift_amplitude\"] = 30\n",
    "recordings_params[\"recordings\"][\"t_start_drift\"] = 100\n",
    "recordings_params[\"recordings\"][\"t_end_drift\"] = 500\n",
    "\n",
    "recordings_params[\"recordings\"][\"drift_mode_probe\"] = 'rigid'\n",
    "\n",
    "\n",
    "recordings_params[\"recordings\"][\"filter\"] = False\n",
    "\n",
    "\n",
    "# (optional) set seeds for reproducibility \n",
    "# (e.g. if you want to maintain underlying activity, but change e.g. noise level)\n",
    "recordings_params['seeds']['spiketrains'] = None\n",
    "recordings_params['seeds']['templates'] = None\n",
    "recordings_params['seeds']['convolution'] = None\n",
    "recordings_params['seeds']['noise'] = None\n",
    "\n"
   ]
  },
  {
   "cell_type": "code",
   "execution_count": null,
   "metadata": {
    "scrolled": false
   },
   "outputs": [],
   "source": [
    "recgen = mr.gen_recordings(templates='data/test_drift_templates.h5', \n",
    "                           params=recordings_params, verbose=True, \n",
    "                           n_jobs=1)"
   ]
  },
  {
   "cell_type": "code",
   "execution_count": null,
   "metadata": {},
   "outputs": [],
   "source": [
    "recordings_params[\"recordings\"][\"drift_mode_probe\"] = 'non-rigid'\n",
    "recordings_params[\"recordings\"][\"non_rigid_gradient_mode\"] = 'linear'"
   ]
  },
  {
   "cell_type": "code",
   "execution_count": null,
   "metadata": {},
   "outputs": [],
   "source": [
    "recgen_non_rigid = mr.gen_recordings(templates='data/test_drift_templates.h5', \n",
    "                                     params=recordings_params, verbose=True,\n",
    "                                     n_jobs=10)"
   ]
  },
  {
   "cell_type": "code",
   "execution_count": null,
   "metadata": {},
   "outputs": [],
   "source": [
    "# TODO fix this"
   ]
  },
  {
   "cell_type": "code",
   "execution_count": null,
   "metadata": {},
   "outputs": [],
   "source": [
    "# save recordings in h5 format\n",
    "mr.save_recording_generator(recgen, filename='data/test_drift_recordings_rigid_middle2.h5')\n",
    "# mr.save_recording_generator(recgen_non_rigid, filename='data/test_drift_recordings_nonrigid_middle1.h5')"
   ]
  },
  {
   "cell_type": "code",
   "execution_count": null,
   "metadata": {},
   "outputs": [],
   "source": [
    "recgen_loaded = mr.load_recordings('data/test_drift_recordings_rigid_middle1.h5')"
   ]
  },
  {
   "cell_type": "code",
   "execution_count": null,
   "metadata": {},
   "outputs": [],
   "source": [
    "debug"
   ]
  },
  {
   "cell_type": "code",
   "execution_count": null,
   "metadata": {},
   "outputs": [],
   "source": [
    "def plot_drifts(recgen):\n",
    "    fig, ax = plt.subplots()\n",
    "    assert recgen.drift_dict is not None, \"No drift info is available\"\n",
    "    \n",
    "    drift_dict = recgen.drift_dict\n",
    "    drift_vectors = drift_dict[\"drift_vectors_idxs\"]\n",
    "    drift_times = drift_dict[\"drift_times\"]\n",
    "    \n",
    "    if drift_vectors.ndim == 1:\n",
    "        # rigid\n",
    "        rigid = True\n",
    "    else:\n",
    "        # non-rigid\n",
    "        rigid = False\n",
    "        \n",
    "    locations = recgen.template_locations\n",
    "    for ist, st in enumerate(recgen.spiketrains):\n",
    "        loc = locations[ist]\n",
    "        drifting = False\n",
    "        if \"drifting\" in st.annotations:\n",
    "            if st.annotations[\"drifting\"]:\n",
    "                drifting = True\n",
    "        if drifting:\n",
    "            if rigid:\n",
    "                loc_drift = loc[drift_vectors, 2]\n",
    "            else:\n",
    "                loc_drift = loc[drift_vectors[:, ist], 2]\n",
    "        else:\n",
    "            n_steps = loc.shape[0]\n",
    "            loc_drift = [loc[n_steps // 2, 2]] * len(drift_times)\n",
    "        ax.plot(drift_times, loc_drift, label=f\"Unit {ist}\")\n",
    "    ax.legend()\n",
    "    "
   ]
  },
  {
   "cell_type": "code",
   "execution_count": null,
   "metadata": {},
   "outputs": [],
   "source": [
    "plot_drifts(recgen)\n",
    "\n",
    "plot_drifts(recgen_non_rigid)"
   ]
  }
 ],
 "metadata": {
  "kernelspec": {
   "display_name": "Python 3 (ipykernel)",
   "language": "python",
   "name": "python3"
  },
  "language_info": {
   "codemirror_mode": {
    "name": "ipython",
    "version": 3
   },
   "file_extension": ".py",
   "mimetype": "text/x-python",
   "name": "python",
   "nbconvert_exporter": "python",
   "pygments_lexer": "ipython3",
   "version": "3.8.13"
  }
 },
 "nbformat": 4,
 "nbformat_minor": 2
}
